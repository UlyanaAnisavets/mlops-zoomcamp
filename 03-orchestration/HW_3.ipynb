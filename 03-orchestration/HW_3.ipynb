{
 "cells": [
  {
   "cell_type": "code",
   "execution_count": 1,
   "id": "fa438098-66c2-4003-b6ea-f58a7aff1f89",
   "metadata": {},
   "outputs": [],
   "source": [
    "import pandas as pd\n",
    "import pickle"
   ]
  },
  {
   "cell_type": "code",
   "execution_count": 2,
   "id": "f3ef0837-e46b-4549-acd7-6a1d824d87bb",
   "metadata": {},
   "outputs": [],
   "source": [
    "from sklearn.feature_extraction import DictVectorizer\n",
    "from sklearn.metrics import root_mean_squared_error"
   ]
  },
  {
   "cell_type": "code",
   "execution_count": 3,
   "id": "61a490f8-a26d-4b4b-87b8-82cee94c5dda",
   "metadata": {},
   "outputs": [
    {
     "data": {
      "text/plain": [
       "<Experiment: artifact_location='/home/ulya/Desktop/mlops_zoomcamp/mlops-zoomcamp/03-orchestration/artifacts/1', creation_time=1750058530984, experiment_id='1', last_update_time=1750058530984, lifecycle_stage='active', name='nyc-taxi-experiment', tags={}>"
      ]
     },
     "execution_count": 3,
     "metadata": {},
     "output_type": "execute_result"
    }
   ],
   "source": [
    "import mlflow\n",
    "\n",
    "mlflow.set_tracking_uri(\"http://localhost:5000\")\n",
    "mlflow.set_experiment(\"nyc-taxi-experiment\")"
   ]
  },
  {
   "cell_type": "code",
   "execution_count": 4,
   "id": "d073de70-6a1a-4af7-b577-55d32a3f2367",
   "metadata": {},
   "outputs": [],
   "source": [
    "def read_dataframe(filename):\n",
    "    df = pd.read_parquet(filename)\n",
    "    \n",
    "    df['duration'] = df.tpep_dropoff_datetime - df.tpep_pickup_datetime\n",
    "    df.duration = df.duration.apply(lambda td: td.total_seconds() / 60)\n",
    "    \n",
    "    df = df[(df.duration >= 1) & (df.duration <= 60)]\n",
    "    \n",
    "    categorical = ['PULocationID','DOLocationID']\n",
    "    df[categorical] = df[categorical].astype(str)\n",
    "\n",
    "    df['PU_DO'] = df['PULocationID'] + '_' + df['DOLocationID']\n",
    "\n",
    "    return df"
   ]
  },
  {
   "cell_type": "code",
   "execution_count": 6,
   "id": "64e795e1-bb56-4f93-b09f-54ffb4d22be7",
   "metadata": {},
   "outputs": [],
   "source": [
    "df_train = read_dataframe('https://d37ci6vzurychx.cloudfront.net/trip-data/yellow_tripdata_2023-01.parquet')\n",
    "df_val = read_dataframe('https://d37ci6vzurychx.cloudfront.net/trip-data/yellow_tripdata_2023-02.parquet')"
   ]
  },
  {
   "cell_type": "code",
   "execution_count": 7,
   "id": "aa447c3c-4dc6-4bdd-a6cb-37f9b4c3460d",
   "metadata": {},
   "outputs": [],
   "source": [
    "categorical = ['PU_DO'] \n",
    "numerical = ['trip_distance']\n",
    "\n",
    "dv = DictVectorizer()\n",
    "\n",
    "train_dicts = df_train[categorical + numerical].to_dict(orient='records')\n",
    "X_train = dv.fit_transform(train_dicts)\n",
    "\n",
    "val_dicts = df_val[categorical + numerical].to_dict(orient='records')\n",
    "X_val = dv.transform(val_dicts)"
   ]
  },
  {
   "cell_type": "code",
   "execution_count": 8,
   "id": "a1114d37-6996-4d5f-b8a8-a9c6ddeb8d46",
   "metadata": {},
   "outputs": [],
   "source": [
    "target = 'duration'\n",
    "y_train = df_train[target].values\n",
    "y_val = df_val[target].values"
   ]
  },
  {
   "cell_type": "code",
   "execution_count": 9,
   "id": "6d60a467-5f32-4dd9-b034-e95af04cb6c0",
   "metadata": {},
   "outputs": [],
   "source": [
    "import xgboost as xgb"
   ]
  },
  {
   "cell_type": "code",
   "execution_count": 12,
   "id": "d686c419",
   "metadata": {},
   "outputs": [
    {
     "name": "stderr",
     "output_type": "stream",
     "text": [
      "/home/ulya/anaconda3/envs/mlops_zoomcamp/lib/python3.9/site-packages/xgboost/core.py:158: UserWarning: [11:08:13] WARNING: /workspace/src/objective/regression_obj.cu:227: reg:linear is now deprecated in favor of reg:squarederror.\n",
      "  warnings.warn(smsg, UserWarning)\n",
      "/home/ulya/anaconda3/envs/mlops_zoomcamp/lib/python3.9/site-packages/xgboost/core.py:158: UserWarning: [11:08:13] WARNING: /workspace/src/learner.cc:740: \n",
      "Parameters: { \"learing_rate\" } are not used.\n",
      "\n",
      "  warnings.warn(smsg, UserWarning)\n"
     ]
    },
    {
     "name": "stdout",
     "output_type": "stream",
     "text": [
      "[0]\tvalidation-rmse:7.96299\n",
      "[1]\tvalidation-rmse:6.66984\n",
      "[2]\tvalidation-rmse:5.91042\n",
      "[3]\tvalidation-rmse:5.47918\n",
      "[4]\tvalidation-rmse:5.23935\n",
      "[5]\tvalidation-rmse:5.10398\n",
      "[6]\tvalidation-rmse:5.02430\n",
      "[7]\tvalidation-rmse:4.97565\n",
      "[8]\tvalidation-rmse:4.94415\n",
      "[9]\tvalidation-rmse:4.92553\n",
      "[10]\tvalidation-rmse:4.91145\n",
      "[11]\tvalidation-rmse:4.90138\n",
      "[12]\tvalidation-rmse:4.89364\n",
      "[13]\tvalidation-rmse:4.88546\n",
      "[14]\tvalidation-rmse:4.88021\n",
      "[15]\tvalidation-rmse:4.87511\n",
      "[16]\tvalidation-rmse:4.87267\n",
      "[17]\tvalidation-rmse:4.87056\n",
      "[18]\tvalidation-rmse:4.86818\n",
      "[19]\tvalidation-rmse:4.86599\n",
      "[20]\tvalidation-rmse:4.86381\n",
      "[21]\tvalidation-rmse:4.86211\n",
      "[22]\tvalidation-rmse:4.86015\n",
      "[23]\tvalidation-rmse:4.85809\n",
      "[24]\tvalidation-rmse:4.85628\n",
      "[25]\tvalidation-rmse:4.85458\n",
      "[26]\tvalidation-rmse:4.85264\n",
      "[27]\tvalidation-rmse:4.85084\n",
      "[28]\tvalidation-rmse:4.84900\n",
      "[29]\tvalidation-rmse:4.84728\n"
     ]
    },
    {
     "name": "stderr",
     "output_type": "stream",
     "text": [
      "/home/ulya/anaconda3/envs/mlops_zoomcamp/lib/python3.9/site-packages/xgboost/core.py:158: UserWarning: [11:09:08] WARNING: /workspace/src/c_api/c_api.cc:1374: Saving model in the UBJSON format as default.  You can use file extension: `json`, `ubj` or `deprecated` to choose between formats.\n",
      "  warnings.warn(smsg, UserWarning)\n",
      "2025/06/16 11:09:10 WARNING mlflow.models.model: Model logged without a signature and input example. Please set `input_example` parameter when logging the model to auto infer the model signature.\n"
     ]
    },
    {
     "name": "stdout",
     "output_type": "stream",
     "text": [
      "🏃 View run spiffy-dog-951 at: http://localhost:5000/#/experiments/1/runs/009a839035e942adb9cee4d555b5f85c\n",
      "🧪 View experiment at: http://localhost:5000/#/experiments/1\n"
     ]
    }
   ],
   "source": [
    "with mlflow.start_run():\n",
    "    train = xgb.DMatrix(X_train, label=y_train)\n",
    "    valid = xgb.DMatrix(X_val, label=y_val)\n",
    "\n",
    "    best_params = {\n",
    "        'learing_rate': 0.09585355369315604,\n",
    "        'max_depth': 30, \n",
    "        'min_child_weight': 1.060597050922164,\n",
    "        'objective': 'reg:linear',\n",
    "        'reg_lambda': 0.18060244040060163,\n",
    "        'reg_alpha': 0.011658731377413597,\n",
    "        'seed': 42\n",
    "    }\n",
    "\n",
    "    mlflow.log_params(best_params)\n",
    "\n",
    "    booster = xgb.train(\n",
    "        params = best_params,\n",
    "        dtrain = train,\n",
    "        num_boost_round=30,\n",
    "        evals=[(valid, \"validation\")],\n",
    "        early_stopping_rounds=2\n",
    "    )\n",
    "\n",
    "    y_pred = booster.predict(valid)\n",
    "    rmse = root_mean_squared_error(y_val, y_pred)\n",
    "    mlflow.log_metric(\"rmse\", rmse)\n",
    "\n",
    "    with open (\"models/preprocessor.b\", \"wb\") as f_out:\n",
    "        pickle.dump(dv, f_out)\n",
    "\n",
    "    mlflow.log_artifact(\"models/preprocessor.b\", artifact_path=\"preprocessor\")\n",
    "\n",
    "    mlflow.xgboost.log_model(booster, artifact_path=\"models_mlflow\")\n",
    "    \n"
   ]
  },
  {
   "cell_type": "code",
   "execution_count": null,
   "id": "6be4b921",
   "metadata": {},
   "outputs": [],
   "source": [
    "logged_model = 'runs:/5142c0365b77438c83a364ce549d3c60/models_mlflow'\n",
    "\n",
    "# Load model as a PyFuncModel.\n",
    "loaded_model = mlflow.pyfunc.load_model(logged_model)"
   ]
  },
  {
   "cell_type": "code",
   "execution_count": null,
   "id": "6edb1069",
   "metadata": {},
   "outputs": [],
   "source": [
    "xgboost_model = mlflow.xgboost.load_model(loaded_model)"
   ]
  }
 ],
 "metadata": {
  "kernelspec": {
   "display_name": "mlops_zoomcamp",
   "language": "python",
   "name": "python3"
  },
  "language_info": {
   "codemirror_mode": {
    "name": "ipython",
    "version": 3
   },
   "file_extension": ".py",
   "mimetype": "text/x-python",
   "name": "python",
   "nbconvert_exporter": "python",
   "pygments_lexer": "ipython3",
   "version": "3.9.23"
  }
 },
 "nbformat": 4,
 "nbformat_minor": 5
}
